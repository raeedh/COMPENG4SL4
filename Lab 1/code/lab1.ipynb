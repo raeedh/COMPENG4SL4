{
 "cells": [
  {
   "cell_type": "code",
   "execution_count": 267,
   "metadata": {},
   "outputs": [],
   "source": [
    "import numpy as np\n",
    "\n",
    "# Generate the training and validation sets\n",
    "def generate_data(training_size, valiation_size, random_seed):\n",
    "\tX_train = np.linspace(0.,1.,10) # training set\n",
    "\tX_valid = np.linspace(0.,1.,100) # validation set\n",
    "\tnp.random.seed(random_seed) # Seed is last 4 digits of McMaster student ID\n",
    "\tt_train = np.sin(4*np.pi*X_train) + 0.3 * np.random.randn(10) \n",
    "\tt_valid = np.sin(4*np.pi*X_valid) + 0.3 * np.random.randn(100)\n",
    "\n",
    "\t# Return training and validation sets\n",
    "\treturn X_train, X_valid, t_train, t_valid"
   ]
  },
  {
   "cell_type": "code",
   "execution_count": 268,
   "metadata": {},
   "outputs": [
    {
     "data": {
      "text/plain": [
       "array([  0.227,   8.06 , -46.758,  76.223, -38.462])"
      ]
     },
     "execution_count": 268,
     "metadata": {},
     "output_type": "execute_result"
    }
   ],
   "source": [
    "def least_square_regression(x, t, M):\n",
    "\tX = np.tile(x.reshape(-1,1),M+1)\n",
    "\tfor D in range(M+1):\n",
    "\t\tX[:,D] = X[:,D]**D\n",
    "\treturn np.matmul(np.linalg.inv(np.matmul(X.T, X)),np.matmul(X.T,t.T))\n",
    "\n",
    "least_square_regression(X_train, t_train, 4)"
   ]
  },
  {
   "cell_type": "code",
   "execution_count": 261,
   "metadata": {},
   "outputs": [],
   "source": [
    "# Create matrix X for least squares regression calculation\n",
    "X = np.tile(X_train.reshape(-1,1),10)\n",
    "for D in range(10):\n",
    "\tX[:,D] = X[:,D]**D"
   ]
  },
  {
   "cell_type": "code",
   "execution_count": 262,
   "metadata": {},
   "outputs": [
    {
     "data": {
      "text/plain": [
       "array([-1.125e-01,  1.333e+02, -2.669e+03,  2.358e+04, -1.128e+05,\n",
       "        3.126e+05, -5.155e+05,  4.981e+05, -2.603e+05,  5.680e+04])"
      ]
     },
     "execution_count": 262,
     "metadata": {},
     "output_type": "execute_result"
    }
   ],
   "source": [
    "# Solve matrix math stuff\n",
    "w = []\n",
    "for D in range(10):\n",
    "\tX_calc = X[:, 0:(D+1)]\n",
    "\t# X_calc\n",
    "\t# print(np.matmul(X_calc.T,t_train.T))\n",
    "\tw.append(np.matmul(np.linalg.inv(np.matmul(X_calc.T, X_calc)),np.matmul(X_calc.T,t_train.T)))\n",
    "\n",
    "\t# if (D == 9):\n",
    "\t\t# print(X_calc)\n",
    "\n",
    "w[9]"
   ]
  }
 ],
 "metadata": {
  "kernelspec": {
   "display_name": "Python 3.8.10 64-bit",
   "language": "python",
   "name": "python3"
  },
  "language_info": {
   "codemirror_mode": {
    "name": "ipython",
    "version": 3
   },
   "file_extension": ".py",
   "mimetype": "text/x-python",
   "name": "python",
   "nbconvert_exporter": "python",
   "pygments_lexer": "ipython3",
   "version": "3.8.10"
  },
  "orig_nbformat": 4,
  "vscode": {
   "interpreter": {
    "hash": "916dbcbb3f70747c44a77c7bcd40155683ae19c65e1c03b4aa3499c5328201f1"
   }
  }
 },
 "nbformat": 4,
 "nbformat_minor": 2
}
